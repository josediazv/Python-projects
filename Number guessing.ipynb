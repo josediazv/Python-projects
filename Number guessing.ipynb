{
 "cells": [
  {
   "cell_type": "code",
   "execution_count": null,
   "metadata": {},
   "outputs": [],
   "source": [
    "import random\n",
    "number_to_guess = random.randint(0,15)\n",
    "num = int(input(\"Enter your number:\" ))\n",
    "if num > number_to_guess:\n",
    "    print(\"Your number is too high.\")\n",
    "elif num < number_to_guess:\n",
    "    print(\"Your number is too low.\")\n",
    "else:\n",
    "    print(\"Correct, you have guessed the number.\")"
   ]
  },
  {
   "cell_type": "code",
   "execution_count": null,
   "metadata": {},
   "outputs": [],
   "source": [
    "import random\n",
    "import time\n",
    "attempts = 5\n",
    "number_to_guess = random.randint(0,15)\n",
    "print(f\"You have {attempts} attempts to guess the number.\")\n",
    "time.sleep(0.5)\n",
    "for i in range(attempts):\n",
    "    num = int(input(\"Enter your number:\" ))\n",
    "\n",
    "    if num == number_to_guess:\n",
    "        print(\"Your number is correct\")\n",
    "        break\n",
    "    else:\n",
    "        print(f\"Try again! You have {attempts-1} attempts left.\")\n",
    "        time.sleep(0.5)\n",
    "        attempts -= 1\n",
    "        if attempts == 0:\n",
    "            print(\"Sorry, you ran out of attempts.\")\n",
    "        continue\n"
   ]
  }
 ],
 "metadata": {
  "kernelspec": {
   "display_name": "Python 3.9.12 ('base')",
   "language": "python",
   "name": "python3"
  },
  "language_info": {
   "codemirror_mode": {
    "name": "ipython",
    "version": 3
   },
   "file_extension": ".py",
   "mimetype": "text/x-python",
   "name": "python",
   "nbconvert_exporter": "python",
   "pygments_lexer": "ipython3",
   "version": "3.9.12"
  },
  "orig_nbformat": 4,
  "vscode": {
   "interpreter": {
    "hash": "aa9baeaca2c7a3077c6ad16d2eba5fdc942d533f2283c36f4430ad2da20b1625"
   }
  }
 },
 "nbformat": 4,
 "nbformat_minor": 2
}
